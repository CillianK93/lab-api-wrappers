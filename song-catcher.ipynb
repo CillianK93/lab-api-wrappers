{
 "cells": [
  {
   "cell_type": "code",
   "execution_count": 47,
   "id": "1c0e0292",
   "metadata": {
    "ExecuteTime": {
     "end_time": "2023-09-21T17:55:34.382012Z",
     "start_time": "2023-09-21T17:55:34.375821Z"
    },
    "scrolled": true
   },
   "outputs": [],
   "source": [
    "import spotipy\n",
    "from spotipy.oauth2 import SpotifyClientCredentials\n",
    "from spotipy.exceptions import SpotifyException\n",
    "import pandas as pd\n",
    "import time\n",
    "\n",
    "sp = spotipy.Spotify(auth_manager=SpotifyClientCredentials(client_id = 'fb35e1e6b7c54dc6b625996ae72f9f81',\n",
    "                                                          client_secret = '72eeda8532044330ba8a17eacdea3e62'))\n",
    "\n",
    "\n"
   ]
  },
  {
   "cell_type": "code",
   "execution_count": 2,
   "id": "6161cf70",
   "metadata": {
    "ExecuteTime": {
     "end_time": "2023-09-21T11:16:17.269648Z",
     "start_time": "2023-09-21T11:16:17.265484Z"
    },
    "scrolled": true
   },
   "outputs": [
    {
     "name": "stdout",
     "output_type": "stream",
     "text": [
      "['Drake', 'SZA', 'Drake', '21 Savage', 'Drake', 'Drake', 'Drake']\n"
     ]
    }
   ],
   "source": [
    "results['tracks']['items'][0]['album']['artists'][0]['name']\n",
    "\n",
    "all_artist_names = []\n",
    "\n",
    "for track in results['tracks']['items']:\n",
    "    for artist in track['album']['artists']:\n",
    "        all_artist_names.append(artist['name'])\n",
    "\n",
    "print(all_artist_names)"
   ]
  },
  {
   "cell_type": "markdown",
   "id": "a539451f",
   "metadata": {},
   "source": [
    "### Song catcher \n",
    "- Step one\n",
    "build function to scrape artists from a playlist, and store them in a list\n",
    "spotipy used: sp.user_playlist_tracks('spotify', 'playlist Uri')\n",
    "\n",
    "- step two\n",
    "build function that takes the list and returns 30 songs from the artist and stores them in a list with the Uris\n",
    "spotipy used: sp.search(q = 'artist : {artist}, limit = 30, type = 'track')\n",
    "might have to add a failsafe if artist doesnt have 30 songs\n",
    "\n",
    "- step three\n",
    "use Uris for each track Uris to get audio features\n",
    "spotipy used : sp.audio_features\n"
   ]
  },
  {
   "cell_type": "code",
   "execution_count": 3,
   "id": "e303069a",
   "metadata": {
    "ExecuteTime": {
     "end_time": "2023-09-21T11:16:17.275810Z",
     "start_time": "2023-09-21T11:16:17.271536Z"
    }
   },
   "outputs": [],
   "source": [
    "#Scrape artists from spotify and store in a list\n",
    "def artists_spot(playlist_id):\n",
    "    \n",
    "    all_artist_names = []\n",
    "\n",
    "    results = sp.user_playlist_tracks('spotify', playlist_id )\n",
    "    #print(\"Initial Results:\", results)\n",
    "    tracks = results['items']\n",
    "\n",
    "    for track in tracks:\n",
    "        #append artist names to list\n",
    "        for artist in track['track']['album']['artists']:\n",
    "            all_artist_names.append(artist['name'])\n",
    "        \n",
    "        \n",
    "    while results['next']:\n",
    "        #handling pages\n",
    "        results = sp.next(results)\n",
    "        tracks = results['items']\n",
    "        for track in tracks:\n",
    "            for artist in track['track']['album']['artists']:\n",
    "                all_artist_names.append(artist['name'])\n",
    "                \n",
    "                \n",
    "    return all_artist_names\n",
    "            \n",
    "            \n",
    "    \n",
    "    "
   ]
  },
  {
   "cell_type": "code",
   "execution_count": 4,
   "id": "77271214",
   "metadata": {
    "ExecuteTime": {
     "end_time": "2023-09-21T11:16:17.279419Z",
     "start_time": "2023-09-21T11:16:17.277338Z"
    }
   },
   "outputs": [],
   "source": [
    " playlist_id = '37i9dQZF1DX4o1oenSJRJd'"
   ]
  },
  {
   "cell_type": "code",
   "execution_count": 5,
   "id": "d3ba426d",
   "metadata": {
    "ExecuteTime": {
     "end_time": "2023-09-21T11:16:18.129746Z",
     "start_time": "2023-09-21T11:16:17.282004Z"
    },
    "scrolled": true
   },
   "outputs": [
    {
     "data": {
      "text/plain": [
       "['Coldplay',\n",
       " 'Eminem',\n",
       " 'Kanye West',\n",
       " 'Linkin Park',\n",
       " 'The Killers',\n",
       " 'Shakira',\n",
       " 'The White Stripes',\n",
       " 'Daddy Yankee',\n",
       " 'Coldplay',\n",
       " 'Linkin Park',\n",
       " 'Eminem',\n",
       " 'Kanye West',\n",
       " 'Nelly Furtado',\n",
       " 'Rihanna',\n",
       " 'Coldplay',\n",
       " 'Gorillaz',\n",
       " 'Evanescence',\n",
       " 'Eminem',\n",
       " 'Foster The People',\n",
       " 'Train',\n",
       " 'Akon',\n",
       " 'JAY-Z',\n",
       " 'Coldplay',\n",
       " 'USHER',\n",
       " 'Kings of Leon',\n",
       " 'Kesha',\n",
       " 'Outkast',\n",
       " 'Red Hot Chili Peppers',\n",
       " 'Timbaland',\n",
       " 'Jimmy Eat World',\n",
       " 'Kanye West',\n",
       " 'Lady Gaga',\n",
       " 'Coldplay',\n",
       " 'The Game',\n",
       " 'Eminem',\n",
       " 'Hoobastank',\n",
       " 'Outkast',\n",
       " 'Papa Roach',\n",
       " 'Sean Paul',\n",
       " 'Snow Patrol',\n",
       " 'Nelly Furtado',\n",
       " 'Maroon 5',\n",
       " 'Nickelback',\n",
       " 'Flo Rida',\n",
       " 'Kendrick Lamar',\n",
       " 'Kanye West',\n",
       " 'Dr. Dre',\n",
       " 'Nelly Furtado',\n",
       " 'Black Eyed Peas',\n",
       " 'Alicia Keys',\n",
       " '50 Cent',\n",
       " 'Empire of the Sun',\n",
       " 'Britney Spears',\n",
       " 'The Fray',\n",
       " 'Rihanna',\n",
       " 'Kanye West',\n",
       " 'Maroon 5',\n",
       " 'Avril Lavigne',\n",
       " 'Franz Ferdinand',\n",
       " 'Justin Timberlake',\n",
       " 'Dr. Dre',\n",
       " 'Amy Winehouse',\n",
       " 'Corinne Bailey Rae',\n",
       " 'Shaggy',\n",
       " 'Beyoncé',\n",
       " 'Green Day',\n",
       " 'Foo Fighters',\n",
       " 'Ne-Yo',\n",
       " 'Shakira',\n",
       " 'Fall Out Boy',\n",
       " 'Taylor Swift',\n",
       " 'Britney Spears',\n",
       " 'Rihanna',\n",
       " 'Justin Timberlake',\n",
       " 'P!nk',\n",
       " 'JAY-Z',\n",
       " \"Plain White T's\",\n",
       " 'Green Day',\n",
       " 'USHER',\n",
       " 'Sean Kingston',\n",
       " 'Stromae',\n",
       " 'Toploader',\n",
       " 'Nelly',\n",
       " 'Jay Sean',\n",
       " 'Rihanna',\n",
       " 'Owl City',\n",
       " 'Mary J. Blige',\n",
       " 'Fall Out Boy',\n",
       " 'Miley Cyrus',\n",
       " 'Bruno Mars',\n",
       " 'Natasha Bedingfield',\n",
       " 'Soulja Boy',\n",
       " \"Destiny's Child\",\n",
       " 'Amy Macdonald',\n",
       " 'Rihanna',\n",
       " 'Red Hot Chili Peppers',\n",
       " 'Estelle',\n",
       " 'The Killers',\n",
       " 'Fall Out Boy',\n",
       " 'Eminem',\n",
       " 'Kylie Minogue',\n",
       " 'Sean Paul',\n",
       " 'MGMT',\n",
       " 'Nelly',\n",
       " 'Taio Cruz',\n",
       " 'Florence + The Machine',\n",
       " 'P!nk',\n",
       " 'My Chemical Romance',\n",
       " 'Kings of Leon',\n",
       " 'Chris Brown',\n",
       " 'Akon',\n",
       " 'Ne-Yo',\n",
       " 'MGMT',\n",
       " 'Modjo',\n",
       " 'Rise Against',\n",
       " 'Limp Bizkit',\n",
       " 'Foo Fighters',\n",
       " 'Lady Gaga',\n",
       " 'Peter Bjorn and John',\n",
       " 'Avril Lavigne',\n",
       " 'Britney Spears',\n",
       " 'Shaggy',\n",
       " 'Timbaland',\n",
       " 'Nelly',\n",
       " 't.A.T.u.',\n",
       " 'Snoop Dogg',\n",
       " 'Muse',\n",
       " '3 Doors Down',\n",
       " 'Bruno Mars',\n",
       " 'James Blunt',\n",
       " 'Shakira',\n",
       " 'Keane',\n",
       " 'blink-182',\n",
       " 'Mike Posner',\n",
       " 'Flo Rida',\n",
       " 'Norah Jones',\n",
       " 'Red Hot Chili Peppers',\n",
       " 'The Calling',\n",
       " 'Taylor Swift',\n",
       " 'Black Eyed Peas',\n",
       " 'Leona Lewis',\n",
       " 'Eric Prydz',\n",
       " 'Beyoncé',\n",
       " 'Britney Spears',\n",
       " 'Eve',\n",
       " 'Seether',\n",
       " 'Green Day',\n",
       " 'Justin Timberlake',\n",
       " '50 Cent',\n",
       " 'The Killers']"
      ]
     },
     "execution_count": 5,
     "metadata": {},
     "output_type": "execute_result"
    }
   ],
   "source": [
    " artists_spot(playlist_id)"
   ]
  },
  {
   "cell_type": "code",
   "execution_count": 6,
   "id": "8be618f9",
   "metadata": {
    "ExecuteTime": {
     "end_time": "2023-09-21T11:16:18.141610Z",
     "start_time": "2023-09-21T11:16:18.133886Z"
    }
   },
   "outputs": [],
   "source": [
    "#after we have our list of names\n",
    "def get_songs_by_artists(playlist_id):\n",
    "    artist_names = artists_spot(playlist_id)\n",
    "    all_songs = []\n",
    "\n",
    "    for artist in artist_names:\n",
    "        #for every artist from playlist i will search for 40 tracks from artist\n",
    "        results = sp.search(q='artist:' + artist, type='track', limit=40)\n",
    "        for track in results['tracks']['items']:\n",
    "            #appending the artist song and uri\n",
    "            all_songs.append({\n",
    "                \"artist\": artist,\n",
    "                \"song_name\": track['name'],\n",
    "                \"uri\": track['uri']\n",
    "            })\n",
    "            \n",
    "\n",
    "    df = pd.DataFrame(all_songs)\n",
    "    return df"
   ]
  },
  {
   "cell_type": "code",
   "execution_count": 7,
   "id": "dc3824c6",
   "metadata": {
    "ExecuteTime": {
     "end_time": "2023-09-21T11:16:51.903898Z",
     "start_time": "2023-09-21T11:16:18.144654Z"
    },
    "scrolled": true
   },
   "outputs": [],
   "source": [
    "df= get_songs_by_artists(playlist_id)"
   ]
  },
  {
   "cell_type": "code",
   "execution_count": 8,
   "id": "8c39abd6",
   "metadata": {
    "ExecuteTime": {
     "end_time": "2023-09-21T11:16:51.920817Z",
     "start_time": "2023-09-21T11:16:51.906854Z"
    },
    "scrolled": true
   },
   "outputs": [],
   "source": [
    "df = df.drop_duplicates(subset='song_name', keep = 'first')\n",
    "track_uris = df['uri'].str.split(':').str[-1].tolist()"
   ]
  },
  {
   "cell_type": "code",
   "execution_count": 9,
   "id": "f8aa0d3a",
   "metadata": {
    "ExecuteTime": {
     "end_time": "2023-09-21T11:16:51.931938Z",
     "start_time": "2023-09-21T11:16:51.923555Z"
    }
   },
   "outputs": [
    {
     "data": {
      "text/plain": [
       "artist\n",
       "Kanye West             40\n",
       "Eve                    40\n",
       "Foster The People      40\n",
       "Modjo                  39\n",
       "My Chemical Romance    39\n",
       "                       ..\n",
       "Norah Jones            14\n",
       "Kylie Minogue          14\n",
       "Coldplay               14\n",
       "Taio Cruz              12\n",
       "Nelly Furtado          11\n",
       "Name: count, Length: 92, dtype: int64"
      ]
     },
     "execution_count": 9,
     "metadata": {},
     "output_type": "execute_result"
    }
   ],
   "source": [
    "df['artist'].value_counts()"
   ]
  },
  {
   "cell_type": "code",
   "execution_count": 10,
   "id": "65df46b6",
   "metadata": {
    "ExecuteTime": {
     "end_time": "2023-09-21T11:16:51.940651Z",
     "start_time": "2023-09-21T11:16:51.934325Z"
    },
    "scrolled": false
   },
   "outputs": [],
   "source": [
    "def get_combined_audio_features(track_uris, df):\n",
    "    \n",
    "    start = 0\n",
    "    audio = pd.DataFrame()\n",
    "    \n",
    "    for stop in range(0, len(track_uris) + 100, 100):\n",
    "        if start != stop:\n",
    "            audio_features = pd.json_normalize(sp.audio_features(track_uris[start:stop]))\n",
    "            audio = pd.concat([audio_features,audio])\n",
    "            start = stop\n",
    "    \n",
    "    # Merge the audio features DataFrame with the song_info_df on the 'uri' column\n",
    "    combined_df = pd.merge(df, audio, on='uri', how='right')\n",
    "    \n",
    "    return combined_df"
   ]
  },
  {
   "cell_type": "code",
   "execution_count": 11,
   "id": "98c9de48",
   "metadata": {
    "ExecuteTime": {
     "end_time": "2023-09-21T11:16:56.441649Z",
     "start_time": "2023-09-21T11:16:51.944595Z"
    }
   },
   "outputs": [],
   "source": [
    "combined_df = get_combined_audio_features(track_uris, df)"
   ]
  },
  {
   "cell_type": "code",
   "execution_count": 12,
   "id": "898121c0",
   "metadata": {
    "ExecuteTime": {
     "end_time": "2023-09-21T11:16:56.456481Z",
     "start_time": "2023-09-21T11:16:56.445124Z"
    }
   },
   "outputs": [
    {
     "data": {
      "text/plain": [
       "song_name\n",
       "What It's Like                                          1\n",
       "PRIDE.                                                  1\n",
       "Sugar (feat. Wynter)                                    1\n",
       "What A Night (feat. inverness) - Big Game Winner Mix    1\n",
       "High Heels - Whistle While You Twerk                    1\n",
       "                                                       ..\n",
       "Family Affair                                           1\n",
       "Be Without You - Kendu Mix                              1\n",
       "Real Love                                               1\n",
       "Mary Jane (All Night Long)                              1\n",
       "Papercut                                                1\n",
       "Name: count, Length: 2773, dtype: int64"
      ]
     },
     "execution_count": 12,
     "metadata": {},
     "output_type": "execute_result"
    }
   ],
   "source": [
    "combined_df['song_name'].value_counts()"
   ]
  },
  {
   "cell_type": "code",
   "execution_count": 13,
   "id": "788c812a",
   "metadata": {
    "ExecuteTime": {
     "end_time": "2023-09-21T11:16:56.514683Z",
     "start_time": "2023-09-21T11:16:56.458818Z"
    }
   },
   "outputs": [],
   "source": []
  },
  {
   "cell_type": "markdown",
   "id": "395aea94",
   "metadata": {},
   "source": [
    "### I want to to be able to update the dataframe by adding new playlists and run the same functions and then adding to the existing df"
   ]
  },
  {
   "cell_type": "code",
   "execution_count": 43,
   "id": "9fc930d0",
   "metadata": {
    "ExecuteTime": {
     "end_time": "2023-09-21T17:54:38.100896Z",
     "start_time": "2023-09-21T17:54:37.983086Z"
    }
   },
   "outputs": [],
   "source": [
    "existing_df = pd.read_csv('spotify_files/spotify_df.csv')"
   ]
  },
  {
   "cell_type": "code",
   "execution_count": 44,
   "id": "2e30cbb4",
   "metadata": {
    "ExecuteTime": {
     "end_time": "2023-09-21T17:54:39.248586Z",
     "start_time": "2023-09-21T17:54:39.228455Z"
    }
   },
   "outputs": [],
   "source": [
    "existing_df.drop('Unnamed: 0', axis=1, inplace=True)"
   ]
  },
  {
   "cell_type": "code",
   "execution_count": 45,
   "id": "f7a9263b",
   "metadata": {
    "ExecuteTime": {
     "end_time": "2023-09-21T17:54:40.029070Z",
     "start_time": "2023-09-21T17:54:40.022592Z"
    }
   },
   "outputs": [],
   "source": [
    "def add_new_songs(new_playlist_id):\n",
    "    \n",
    "\n",
    "    song_df = get_songs_by_artists(new_playlist_id)\n",
    "    \n",
    "    song_df = song_df.drop_duplicates(subset='song_name', keep = 'first')\n",
    "    track_uris = song_df['uri'].str.split(':').str[-1].tolist()\n",
    "    \n",
    "    combined_df = get_combined_audio_features(track_uris, song_df)\n",
    "    \n",
    "    \n",
    "    \n",
    "    return combined_df"
   ]
  },
  {
   "cell_type": "code",
   "execution_count": 48,
   "id": "680f0ee2",
   "metadata": {
    "ExecuteTime": {
     "end_time": "2023-09-21T17:56:20.713982Z",
     "start_time": "2023-09-21T17:55:44.560006Z"
    }
   },
   "outputs": [
    {
     "name": "stdout",
     "output_type": "stream",
     "text": [
      "Enter the new playlist ID: 3IsxzDS04BvejFJcQ0iVyW\n"
     ]
    }
   ],
   "source": [
    "new_playlist_id = input('Enter the new playlist ID: ')\n",
    "combined_df = add_new_songs(new_playlist_id)"
   ]
  },
  {
   "cell_type": "code",
   "execution_count": 49,
   "id": "b609a0b9",
   "metadata": {
    "ExecuteTime": {
     "end_time": "2023-09-21T17:56:25.558391Z",
     "start_time": "2023-09-21T17:56:25.533809Z"
    }
   },
   "outputs": [],
   "source": [
    "spot_df = pd.concat([existing_df, combined_df], ignore_index = True)\n",
    "spot_df = spot_df.drop_duplicates(subset= 'song_name', keep = 'first')"
   ]
  },
  {
   "cell_type": "code",
   "execution_count": 50,
   "id": "7e6362b5",
   "metadata": {
    "ExecuteTime": {
     "end_time": "2023-09-21T17:56:26.259617Z",
     "start_time": "2023-09-21T17:56:26.209881Z"
    },
    "scrolled": false
   },
   "outputs": [
    {
     "data": {
      "text/html": [
       "<div>\n",
       "<style scoped>\n",
       "    .dataframe tbody tr th:only-of-type {\n",
       "        vertical-align: middle;\n",
       "    }\n",
       "\n",
       "    .dataframe tbody tr th {\n",
       "        vertical-align: top;\n",
       "    }\n",
       "\n",
       "    .dataframe thead th {\n",
       "        text-align: right;\n",
       "    }\n",
       "</style>\n",
       "<table border=\"1\" class=\"dataframe\">\n",
       "  <thead>\n",
       "    <tr style=\"text-align: right;\">\n",
       "      <th></th>\n",
       "      <th>artist</th>\n",
       "      <th>song_name</th>\n",
       "      <th>uri</th>\n",
       "      <th>danceability</th>\n",
       "      <th>energy</th>\n",
       "      <th>key</th>\n",
       "      <th>loudness</th>\n",
       "      <th>mode</th>\n",
       "      <th>speechiness</th>\n",
       "      <th>acousticness</th>\n",
       "      <th>instrumentalness</th>\n",
       "      <th>liveness</th>\n",
       "      <th>valence</th>\n",
       "      <th>tempo</th>\n",
       "      <th>type</th>\n",
       "      <th>id</th>\n",
       "      <th>track_href</th>\n",
       "      <th>analysis_url</th>\n",
       "      <th>duration_ms</th>\n",
       "      <th>time_signature</th>\n",
       "    </tr>\n",
       "  </thead>\n",
       "  <tbody>\n",
       "    <tr>\n",
       "      <th>0</th>\n",
       "      <td>Eve</td>\n",
       "      <td>What It's Like</td>\n",
       "      <td>spotify:track:6vUPPEN2V2lZ78b6DyEIjZ</td>\n",
       "      <td>0.679</td>\n",
       "      <td>0.557</td>\n",
       "      <td>0</td>\n",
       "      <td>-7.423</td>\n",
       "      <td>1</td>\n",
       "      <td>0.0281</td>\n",
       "      <td>0.090400</td>\n",
       "      <td>0.032400</td>\n",
       "      <td>0.0866</td>\n",
       "      <td>0.405</td>\n",
       "      <td>85.152</td>\n",
       "      <td>audio_features</td>\n",
       "      <td>6vUPPEN2V2lZ78b6DyEIjZ</td>\n",
       "      <td>https://api.spotify.com/v1/tracks/6vUPPEN2V2lZ...</td>\n",
       "      <td>https://api.spotify.com/v1/audio-analysis/6vUP...</td>\n",
       "      <td>303133</td>\n",
       "      <td>4</td>\n",
       "    </tr>\n",
       "    <tr>\n",
       "      <th>1</th>\n",
       "      <td>Eve</td>\n",
       "      <td>Kaikai Kitan</td>\n",
       "      <td>spotify:track:6y4GYuZszeXNOXuBFsJlos</td>\n",
       "      <td>0.584</td>\n",
       "      <td>0.911</td>\n",
       "      <td>5</td>\n",
       "      <td>-3.515</td>\n",
       "      <td>0</td>\n",
       "      <td>0.0900</td>\n",
       "      <td>0.011900</td>\n",
       "      <td>0.000000</td>\n",
       "      <td>0.1190</td>\n",
       "      <td>0.606</td>\n",
       "      <td>92.502</td>\n",
       "      <td>audio_features</td>\n",
       "      <td>6y4GYuZszeXNOXuBFsJlos</td>\n",
       "      <td>https://api.spotify.com/v1/tracks/6y4GYuZszeXN...</td>\n",
       "      <td>https://api.spotify.com/v1/audio-analysis/6y4G...</td>\n",
       "      <td>221426</td>\n",
       "      <td>4</td>\n",
       "    </tr>\n",
       "    <tr>\n",
       "      <th>2</th>\n",
       "      <td>Eve</td>\n",
       "      <td>Hey Lover</td>\n",
       "      <td>spotify:track:0bhwnn2xqnBUcMZDcXNuII</td>\n",
       "      <td>0.480</td>\n",
       "      <td>0.482</td>\n",
       "      <td>7</td>\n",
       "      <td>-11.450</td>\n",
       "      <td>0</td>\n",
       "      <td>0.0362</td>\n",
       "      <td>0.250000</td>\n",
       "      <td>0.000289</td>\n",
       "      <td>0.3450</td>\n",
       "      <td>0.684</td>\n",
       "      <td>128.160</td>\n",
       "      <td>audio_features</td>\n",
       "      <td>0bhwnn2xqnBUcMZDcXNuII</td>\n",
       "      <td>https://api.spotify.com/v1/tracks/0bhwnn2xqnBU...</td>\n",
       "      <td>https://api.spotify.com/v1/audio-analysis/0bhw...</td>\n",
       "      <td>144000</td>\n",
       "      <td>4</td>\n",
       "    </tr>\n",
       "    <tr>\n",
       "      <th>3</th>\n",
       "      <td>Eve</td>\n",
       "      <td>Father Of Mine</td>\n",
       "      <td>spotify:track:2hx4ptqsE8dboLH3NCLmaN</td>\n",
       "      <td>0.568</td>\n",
       "      <td>0.940</td>\n",
       "      <td>1</td>\n",
       "      <td>-5.401</td>\n",
       "      <td>1</td>\n",
       "      <td>0.0411</td>\n",
       "      <td>0.000431</td>\n",
       "      <td>0.000050</td>\n",
       "      <td>0.0779</td>\n",
       "      <td>0.738</td>\n",
       "      <td>97.096</td>\n",
       "      <td>audio_features</td>\n",
       "      <td>2hx4ptqsE8dboLH3NCLmaN</td>\n",
       "      <td>https://api.spotify.com/v1/tracks/2hx4ptqsE8db...</td>\n",
       "      <td>https://api.spotify.com/v1/audio-analysis/2hx4...</td>\n",
       "      <td>231400</td>\n",
       "      <td>4</td>\n",
       "    </tr>\n",
       "    <tr>\n",
       "      <th>4</th>\n",
       "      <td>Eve</td>\n",
       "      <td>I See Red</td>\n",
       "      <td>spotify:track:5MAK1nd8R6PWnle1Q1WJvh</td>\n",
       "      <td>0.509</td>\n",
       "      <td>0.448</td>\n",
       "      <td>4</td>\n",
       "      <td>-7.552</td>\n",
       "      <td>0</td>\n",
       "      <td>0.0357</td>\n",
       "      <td>0.007130</td>\n",
       "      <td>0.013700</td>\n",
       "      <td>0.2440</td>\n",
       "      <td>0.221</td>\n",
       "      <td>156.909</td>\n",
       "      <td>audio_features</td>\n",
       "      <td>5MAK1nd8R6PWnle1Q1WJvh</td>\n",
       "      <td>https://api.spotify.com/v1/tracks/5MAK1nd8R6PW...</td>\n",
       "      <td>https://api.spotify.com/v1/audio-analysis/5MAK...</td>\n",
       "      <td>230613</td>\n",
       "      <td>3</td>\n",
       "    </tr>\n",
       "    <tr>\n",
       "      <th>...</th>\n",
       "      <td>...</td>\n",
       "      <td>...</td>\n",
       "      <td>...</td>\n",
       "      <td>...</td>\n",
       "      <td>...</td>\n",
       "      <td>...</td>\n",
       "      <td>...</td>\n",
       "      <td>...</td>\n",
       "      <td>...</td>\n",
       "      <td>...</td>\n",
       "      <td>...</td>\n",
       "      <td>...</td>\n",
       "      <td>...</td>\n",
       "      <td>...</td>\n",
       "      <td>...</td>\n",
       "      <td>...</td>\n",
       "      <td>...</td>\n",
       "      <td>...</td>\n",
       "      <td>...</td>\n",
       "      <td>...</td>\n",
       "    </tr>\n",
       "    <tr>\n",
       "      <th>11862</th>\n",
       "      <td>Gunna</td>\n",
       "      <td>Drip or Drown</td>\n",
       "      <td>spotify:track:6ZthdsKjWtiCxnxbhs74vF</td>\n",
       "      <td>0.952</td>\n",
       "      <td>0.478</td>\n",
       "      <td>5</td>\n",
       "      <td>-8.520</td>\n",
       "      <td>0</td>\n",
       "      <td>0.3610</td>\n",
       "      <td>0.774000</td>\n",
       "      <td>0.000000</td>\n",
       "      <td>0.1120</td>\n",
       "      <td>0.568</td>\n",
       "      <td>118.008</td>\n",
       "      <td>audio_features</td>\n",
       "      <td>6ZthdsKjWtiCxnxbhs74vF</td>\n",
       "      <td>https://api.spotify.com/v1/tracks/6ZthdsKjWtiC...</td>\n",
       "      <td>https://api.spotify.com/v1/audio-analysis/6Zth...</td>\n",
       "      <td>126168</td>\n",
       "      <td>4</td>\n",
       "    </tr>\n",
       "    <tr>\n",
       "      <th>11863</th>\n",
       "      <td>Gunna</td>\n",
       "      <td>pushin P (feat. Young Thug)</td>\n",
       "      <td>spotify:track:3XOalgusokruzA5ZBA2Qcb</td>\n",
       "      <td>0.773</td>\n",
       "      <td>0.422</td>\n",
       "      <td>1</td>\n",
       "      <td>-4.572</td>\n",
       "      <td>0</td>\n",
       "      <td>0.1870</td>\n",
       "      <td>0.007830</td>\n",
       "      <td>0.006930</td>\n",
       "      <td>0.1290</td>\n",
       "      <td>0.488</td>\n",
       "      <td>77.502</td>\n",
       "      <td>audio_features</td>\n",
       "      <td>3XOalgusokruzA5ZBA2Qcb</td>\n",
       "      <td>https://api.spotify.com/v1/tracks/3XOalgusokru...</td>\n",
       "      <td>https://api.spotify.com/v1/audio-analysis/3XOa...</td>\n",
       "      <td>136267</td>\n",
       "      <td>1</td>\n",
       "    </tr>\n",
       "    <tr>\n",
       "      <th>11864</th>\n",
       "      <td>Gunna</td>\n",
       "      <td>Banking On Me</td>\n",
       "      <td>spotify:track:7Fege3yv4dvehB3NdRBGwI</td>\n",
       "      <td>0.793</td>\n",
       "      <td>0.308</td>\n",
       "      <td>0</td>\n",
       "      <td>-10.414</td>\n",
       "      <td>0</td>\n",
       "      <td>0.0466</td>\n",
       "      <td>0.613000</td>\n",
       "      <td>0.000017</td>\n",
       "      <td>0.0953</td>\n",
       "      <td>0.460</td>\n",
       "      <td>135.143</td>\n",
       "      <td>audio_features</td>\n",
       "      <td>7Fege3yv4dvehB3NdRBGwI</td>\n",
       "      <td>https://api.spotify.com/v1/tracks/7Fege3yv4dve...</td>\n",
       "      <td>https://api.spotify.com/v1/audio-analysis/7Feg...</td>\n",
       "      <td>200000</td>\n",
       "      <td>4</td>\n",
       "    </tr>\n",
       "    <tr>\n",
       "      <th>11865</th>\n",
       "      <td>Gunna</td>\n",
       "      <td>ca$h $hit</td>\n",
       "      <td>spotify:track:48rsYvIQXUAtxcmIoStOaM</td>\n",
       "      <td>0.795</td>\n",
       "      <td>0.550</td>\n",
       "      <td>7</td>\n",
       "      <td>-5.704</td>\n",
       "      <td>0</td>\n",
       "      <td>0.0882</td>\n",
       "      <td>0.123000</td>\n",
       "      <td>0.000000</td>\n",
       "      <td>0.0873</td>\n",
       "      <td>0.152</td>\n",
       "      <td>119.975</td>\n",
       "      <td>audio_features</td>\n",
       "      <td>48rsYvIQXUAtxcmIoStOaM</td>\n",
       "      <td>https://api.spotify.com/v1/tracks/48rsYvIQXUAt...</td>\n",
       "      <td>https://api.spotify.com/v1/audio-analysis/48rs...</td>\n",
       "      <td>131493</td>\n",
       "      <td>4</td>\n",
       "    </tr>\n",
       "    <tr>\n",
       "      <th>11866</th>\n",
       "      <td>Gunna</td>\n",
       "      <td>rodeo dr</td>\n",
       "      <td>spotify:track:2rjv9fXzpZDbB6lEeIoB3l</td>\n",
       "      <td>0.800</td>\n",
       "      <td>0.754</td>\n",
       "      <td>1</td>\n",
       "      <td>-5.259</td>\n",
       "      <td>0</td>\n",
       "      <td>0.2160</td>\n",
       "      <td>0.066800</td>\n",
       "      <td>0.000000</td>\n",
       "      <td>0.2780</td>\n",
       "      <td>0.334</td>\n",
       "      <td>134.136</td>\n",
       "      <td>audio_features</td>\n",
       "      <td>2rjv9fXzpZDbB6lEeIoB3l</td>\n",
       "      <td>https://api.spotify.com/v1/tracks/2rjv9fXzpZDb...</td>\n",
       "      <td>https://api.spotify.com/v1/audio-analysis/2rjv...</td>\n",
       "      <td>176947</td>\n",
       "      <td>4</td>\n",
       "    </tr>\n",
       "  </tbody>\n",
       "</table>\n",
       "<p>11605 rows × 20 columns</p>\n",
       "</div>"
      ],
      "text/plain": [
       "      artist                    song_name   \n",
       "0        Eve               What It's Like  \\\n",
       "1        Eve                 Kaikai Kitan   \n",
       "2        Eve                    Hey Lover   \n",
       "3        Eve               Father Of Mine   \n",
       "4        Eve                    I See Red   \n",
       "...      ...                          ...   \n",
       "11862  Gunna                Drip or Drown   \n",
       "11863  Gunna  pushin P (feat. Young Thug)   \n",
       "11864  Gunna                Banking On Me   \n",
       "11865  Gunna                    ca$h $hit   \n",
       "11866  Gunna                     rodeo dr   \n",
       "\n",
       "                                        uri  danceability  energy  key   \n",
       "0      spotify:track:6vUPPEN2V2lZ78b6DyEIjZ         0.679   0.557    0  \\\n",
       "1      spotify:track:6y4GYuZszeXNOXuBFsJlos         0.584   0.911    5   \n",
       "2      spotify:track:0bhwnn2xqnBUcMZDcXNuII         0.480   0.482    7   \n",
       "3      spotify:track:2hx4ptqsE8dboLH3NCLmaN         0.568   0.940    1   \n",
       "4      spotify:track:5MAK1nd8R6PWnle1Q1WJvh         0.509   0.448    4   \n",
       "...                                     ...           ...     ...  ...   \n",
       "11862  spotify:track:6ZthdsKjWtiCxnxbhs74vF         0.952   0.478    5   \n",
       "11863  spotify:track:3XOalgusokruzA5ZBA2Qcb         0.773   0.422    1   \n",
       "11864  spotify:track:7Fege3yv4dvehB3NdRBGwI         0.793   0.308    0   \n",
       "11865  spotify:track:48rsYvIQXUAtxcmIoStOaM         0.795   0.550    7   \n",
       "11866  spotify:track:2rjv9fXzpZDbB6lEeIoB3l         0.800   0.754    1   \n",
       "\n",
       "       loudness  mode  speechiness  acousticness  instrumentalness  liveness   \n",
       "0        -7.423     1       0.0281      0.090400          0.032400    0.0866  \\\n",
       "1        -3.515     0       0.0900      0.011900          0.000000    0.1190   \n",
       "2       -11.450     0       0.0362      0.250000          0.000289    0.3450   \n",
       "3        -5.401     1       0.0411      0.000431          0.000050    0.0779   \n",
       "4        -7.552     0       0.0357      0.007130          0.013700    0.2440   \n",
       "...         ...   ...          ...           ...               ...       ...   \n",
       "11862    -8.520     0       0.3610      0.774000          0.000000    0.1120   \n",
       "11863    -4.572     0       0.1870      0.007830          0.006930    0.1290   \n",
       "11864   -10.414     0       0.0466      0.613000          0.000017    0.0953   \n",
       "11865    -5.704     0       0.0882      0.123000          0.000000    0.0873   \n",
       "11866    -5.259     0       0.2160      0.066800          0.000000    0.2780   \n",
       "\n",
       "       valence    tempo            type                      id   \n",
       "0        0.405   85.152  audio_features  6vUPPEN2V2lZ78b6DyEIjZ  \\\n",
       "1        0.606   92.502  audio_features  6y4GYuZszeXNOXuBFsJlos   \n",
       "2        0.684  128.160  audio_features  0bhwnn2xqnBUcMZDcXNuII   \n",
       "3        0.738   97.096  audio_features  2hx4ptqsE8dboLH3NCLmaN   \n",
       "4        0.221  156.909  audio_features  5MAK1nd8R6PWnle1Q1WJvh   \n",
       "...        ...      ...             ...                     ...   \n",
       "11862    0.568  118.008  audio_features  6ZthdsKjWtiCxnxbhs74vF   \n",
       "11863    0.488   77.502  audio_features  3XOalgusokruzA5ZBA2Qcb   \n",
       "11864    0.460  135.143  audio_features  7Fege3yv4dvehB3NdRBGwI   \n",
       "11865    0.152  119.975  audio_features  48rsYvIQXUAtxcmIoStOaM   \n",
       "11866    0.334  134.136  audio_features  2rjv9fXzpZDbB6lEeIoB3l   \n",
       "\n",
       "                                              track_href   \n",
       "0      https://api.spotify.com/v1/tracks/6vUPPEN2V2lZ...  \\\n",
       "1      https://api.spotify.com/v1/tracks/6y4GYuZszeXN...   \n",
       "2      https://api.spotify.com/v1/tracks/0bhwnn2xqnBU...   \n",
       "3      https://api.spotify.com/v1/tracks/2hx4ptqsE8db...   \n",
       "4      https://api.spotify.com/v1/tracks/5MAK1nd8R6PW...   \n",
       "...                                                  ...   \n",
       "11862  https://api.spotify.com/v1/tracks/6ZthdsKjWtiC...   \n",
       "11863  https://api.spotify.com/v1/tracks/3XOalgusokru...   \n",
       "11864  https://api.spotify.com/v1/tracks/7Fege3yv4dve...   \n",
       "11865  https://api.spotify.com/v1/tracks/48rsYvIQXUAt...   \n",
       "11866  https://api.spotify.com/v1/tracks/2rjv9fXzpZDb...   \n",
       "\n",
       "                                            analysis_url  duration_ms   \n",
       "0      https://api.spotify.com/v1/audio-analysis/6vUP...       303133  \\\n",
       "1      https://api.spotify.com/v1/audio-analysis/6y4G...       221426   \n",
       "2      https://api.spotify.com/v1/audio-analysis/0bhw...       144000   \n",
       "3      https://api.spotify.com/v1/audio-analysis/2hx4...       231400   \n",
       "4      https://api.spotify.com/v1/audio-analysis/5MAK...       230613   \n",
       "...                                                  ...          ...   \n",
       "11862  https://api.spotify.com/v1/audio-analysis/6Zth...       126168   \n",
       "11863  https://api.spotify.com/v1/audio-analysis/3XOa...       136267   \n",
       "11864  https://api.spotify.com/v1/audio-analysis/7Feg...       200000   \n",
       "11865  https://api.spotify.com/v1/audio-analysis/48rs...       131493   \n",
       "11866  https://api.spotify.com/v1/audio-analysis/2rjv...       176947   \n",
       "\n",
       "       time_signature  \n",
       "0                   4  \n",
       "1                   4  \n",
       "2                   4  \n",
       "3                   4  \n",
       "4                   3  \n",
       "...               ...  \n",
       "11862               4  \n",
       "11863               1  \n",
       "11864               4  \n",
       "11865               4  \n",
       "11866               4  \n",
       "\n",
       "[11605 rows x 20 columns]"
      ]
     },
     "execution_count": 50,
     "metadata": {},
     "output_type": "execute_result"
    }
   ],
   "source": [
    "spot_df"
   ]
  },
  {
   "cell_type": "code",
   "execution_count": 51,
   "id": "c839566d",
   "metadata": {
    "ExecuteTime": {
     "end_time": "2023-09-21T17:56:43.705988Z",
     "start_time": "2023-09-21T17:56:43.533369Z"
    }
   },
   "outputs": [],
   "source": [
    "spot_df.to_csv('spotify_files/spotify_df.csv')"
   ]
  },
  {
   "cell_type": "markdown",
   "id": "bc519b46",
   "metadata": {},
   "source": [
    "## While its not perfect i think it does a good job at fetching new songs and adding them to our df.\n",
    "\n",
    "Steps for use:\n",
    "start by reading in csv and then run the code, input the playlist uri, run and then save the csv.\n",
    "you need to read in the csv again to start the loop again."
   ]
  },
  {
   "cell_type": "code",
   "execution_count": null,
   "id": "9a88f4ba",
   "metadata": {},
   "outputs": [],
   "source": []
  }
 ],
 "metadata": {
  "kernelspec": {
   "display_name": "Python 3 (ipykernel)",
   "language": "python",
   "name": "python3"
  },
  "language_info": {
   "codemirror_mode": {
    "name": "ipython",
    "version": 3
   },
   "file_extension": ".py",
   "mimetype": "text/x-python",
   "name": "python",
   "nbconvert_exporter": "python",
   "pygments_lexer": "ipython3",
   "version": "3.10.9"
  }
 },
 "nbformat": 4,
 "nbformat_minor": 5
}
